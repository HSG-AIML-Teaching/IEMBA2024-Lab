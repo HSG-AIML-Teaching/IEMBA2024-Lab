{
  "cells": [
    {
      "cell_type": "markdown",
      "metadata": {
        "id": "qWtiHCXyD8LC"
      },
      "source": [
        "# Exercise"
      ]
    },
    {
      "cell_type": "markdown",
      "metadata": {
        "id": "IZXTB2jUJhK-"
      },
      "source": [
        "## Setup"
      ]
    },
    {
      "cell_type": "code",
      "execution_count": 1,
      "metadata": {
        "id": "2jXxDYe-jwI1"
      },
      "outputs": [
        {
          "name": "stderr",
          "output_type": "stream",
          "text": [
            "Der Befehl \"nvidia-smi\" ist entweder falsch geschrieben oder\n",
            "konnte nicht gefunden werden.\n"
          ]
        },
        {
          "name": "stdout",
          "output_type": "stream",
          "text": [
            "^C\n"
          ]
        },
        {
          "name": "stdout",
          "output_type": "stream",
          "text": [
            "Collecting git+https://github.com/huggingface/diffusers.git\n",
            "  Cloning https://github.com/huggingface/diffusers.git to c:\\users\\liszimmermann\\appdata\\local\\temp\\pip-req-build-eyxsswma\n",
            "  Resolved https://github.com/huggingface/diffusers.git to commit d66d554dc200870d4c3e675504010efc7730f4b6\n",
            "  Installing build dependencies: started\n",
            "  Installing build dependencies: finished with status 'done'\n",
            "  Getting requirements to build wheel: started\n",
            "  Getting requirements to build wheel: finished with status 'done'\n",
            "  Preparing metadata (pyproject.toml): started\n",
            "  Preparing metadata (pyproject.toml): finished with status 'done'\n",
            "Collecting transformers\n",
            "  Using cached transformers-4.36.2-py3-none-any.whl.metadata (126 kB)\n",
            "Requirement already satisfied: scipy in c:\\users\\liszimmermann\\appdata\\local\\programs\\python\\python312\\lib\\site-packages (1.11.4)\n",
            "Collecting scipy\n",
            "  Downloading scipy-1.12.0-cp312-cp312-win_amd64.whl.metadata (60 kB)\n",
            "     ---------------------------------------- 0.0/60.4 kB ? eta -:--:--\n",
            "     ------ --------------------------------- 10.2/60.4 kB ? eta -:--:--\n",
            "     ------------------- ------------------ 30.7/60.4 kB 325.1 kB/s eta 0:00:01\n",
            "     -------------------------------- ----- 51.2/60.4 kB 435.7 kB/s eta 0:00:01\n",
            "     -------------------------------------- 60.4/60.4 kB 401.6 kB/s eta 0:00:00\n",
            "Collecting ftfy\n",
            "  Downloading ftfy-6.1.3-py3-none-any.whl.metadata (6.2 kB)\n",
            "Collecting accelerate\n",
            "  Downloading accelerate-0.26.1-py3-none-any.whl.metadata (18 kB)\n",
            "Requirement already satisfied: openai in c:\\users\\liszimmermann\\appdata\\local\\programs\\python\\python312\\lib\\site-packages (1.6.0)\n",
            "Collecting openai\n",
            "  Downloading openai-1.9.0-py3-none-any.whl.metadata (18 kB)\n",
            "Collecting importlib-metadata (from diffusers==0.26.0.dev0)\n",
            "  Downloading importlib_metadata-7.0.1-py3-none-any.whl.metadata (4.9 kB)\n",
            "Requirement already satisfied: filelock in c:\\users\\liszimmermann\\appdata\\local\\programs\\python\\python312\\lib\\site-packages (from diffusers==0.26.0.dev0) (3.13.1)\n",
            "Collecting huggingface-hub>=0.20.2 (from diffusers==0.26.0.dev0)\n",
            "  Downloading huggingface_hub-0.20.3-py3-none-any.whl.metadata (12 kB)\n",
            "Requirement already satisfied: numpy in c:\\users\\liszimmermann\\appdata\\local\\programs\\python\\python312\\lib\\site-packages (from diffusers==0.26.0.dev0) (1.26.2)\n",
            "Collecting regex!=2019.12.17 (from diffusers==0.26.0.dev0)\n",
            "  Using cached regex-2023.12.25-cp312-cp312-win_amd64.whl.metadata (41 kB)\n",
            "Requirement already satisfied: requests in c:\\users\\liszimmermann\\appdata\\local\\programs\\python\\python312\\lib\\site-packages (from diffusers==0.26.0.dev0) (2.31.0)\n",
            "Collecting safetensors>=0.3.1 (from diffusers==0.26.0.dev0)\n",
            "  Downloading safetensors-0.4.1.tar.gz (62 kB)\n",
            "     ---------------------------------------- 0.0/62.5 kB ? eta -:--:--\n",
            "     ---------------------------------------- 62.5/62.5 kB 3.5 MB/s eta 0:00:00\n",
            "  Installing build dependencies: started\n",
            "  Installing build dependencies: finished with status 'done'\n",
            "  Getting requirements to build wheel: started\n",
            "  Getting requirements to build wheel: finished with status 'done'\n",
            "  Preparing metadata (pyproject.toml): started\n",
            "  Preparing metadata (pyproject.toml): finished with status 'error'\n"
          ]
        },
        {
          "name": "stderr",
          "output_type": "stream",
          "text": [
            "  Running command git clone --filter=blob:none --quiet https://github.com/huggingface/diffusers.git 'C:\\Users\\LisZimmermann\\AppData\\Local\\Temp\\pip-req-build-eyxsswma'\n",
            "  error: subprocess-exited-with-error\n",
            "  \n",
            "  × Preparing metadata (pyproject.toml) did not run successfully.\n",
            "  │ exit code: 1\n",
            "  ╰─> [6 lines of output]\n",
            "      Checking for Rust toolchain....\n",
            "      \n",
            "      Cargo, the Rust package manager, is not installed or is not on PATH.\n",
            "      This package requires Rust and Cargo to compile extensions. Install it through\n",
            "      the system's package manager or via https://rustup.rs/\n",
            "      \n",
            "      [end of output]\n",
            "  \n",
            "  note: This error originates from a subprocess, and is likely not a problem with pip.\n",
            "error: metadata-generation-failed\n",
            "\n",
            "× Encountered error while generating package metadata.\n",
            "╰─> See above for output.\n",
            "\n",
            "note: This is an issue with the package mentioned above, not pip.\n",
            "hint: See above for details.\n"
          ]
        }
      ],
      "source": [
        "!nvidia-smi\n",
        "!pip install --upgrade git+https://github.com/huggingface/diffusers.git transformers transformers[sentencepiece] scipy ftfy accelerate openai"
      ]
    },
    {
      "cell_type": "code",
      "execution_count": 5,
      "metadata": {
        "id": "VCGMVKWmjzj-"
      },
      "outputs": [],
      "source": [
        "from openai import OpenAI\n",
        "import IPython.display as ipd\n",
        "import os\n",
        "from diffusers import StableDiffusionPipeline\n",
        "import torch\n",
        "from PIL import Image\n",
        "import urllib.request"
      ]
    },
    {
      "cell_type": "markdown",
      "metadata": {
        "id": "Moj-ZJyZD2yb"
      },
      "source": [
        "## Exercise 1: Using ModelHub (Easy)"
      ]
    },
    {
      "cell_type": "markdown",
      "metadata": {
        "id": "aQ1r4o3CD7vG"
      },
      "source": [
        "Now try for yourself and get your hands dirty.\n",
        "\n",
        "In the guided programming session we already covered a translation task. Modify the example to translate from english to spanish (instead of german). Search the [ModelHub](https://huggingface.co/models) to find a model which allows translating from english to spanish."
      ]
    },
    {
      "cell_type": "code",
      "execution_count": null,
      "metadata": {
        "id": "4M3CZ9PwB8nz"
      },
      "outputs": [],
      "source": [
        "##translation from english to german\n",
        "from transformers import pipeline\n",
        "mdl_name = \"Helsinki-NLP/opus-mt-en-de\"\n",
        "translator = pipeline(\"translation\", model=mdl_name)\n",
        "\n",
        "input_text = \"Transformers provides APIs and tools to easily download and train state-of-the-art pretrained models. Using pretrained models can reduce your compute costs, carbon footprint, and save you the time and resources required to train a model from scratch. \"\n",
        "translated_text = translator(input_text)\n",
        "print(translated_text)"
      ]
    },
    {
      "cell_type": "code",
      "execution_count": null,
      "metadata": {
        "id": "6mwh8iieIkEL"
      },
      "outputs": [],
      "source": [
        "##Modify the above code snippet to translate from English to Spanish (instead of German)\n",
        "\n",
        "### YOUR CODE START\n",
        "\n",
        "### YOUR CODE END"
      ]
    },
    {
      "cell_type": "markdown",
      "metadata": {
        "id": "TQMcqTXD9tHt"
      },
      "source": [
        "## Exercise 2: Dinner Inspiration with Chat Completions API and Diffusors library"
      ]
    },
    {
      "cell_type": "markdown",
      "metadata": {
        "id": "auyQidmzatnO"
      },
      "source": [
        "In this exercise, you get inspiration for cooking dinner based on the ingredients at your disposal in the fridge.\n",
        "\n",
        "This is your starting point, with a picture of the fridge contents specified in a URI."
      ]
    },
    {
      "cell_type": "code",
      "execution_count": null,
      "metadata": {
        "colab": {
          "base_uri": "https://localhost:8080/",
          "height": 392
        },
        "id": "EDYhCAKB6AUH",
        "outputId": "7e0a355f-575b-4c1c-c1c0-95c93dfda7aa"
      },
      "outputs": [],
      "source": [
        "uri = 'https://extension.umn.edu/sites/extension.umn.edu/files/refrigerator-chill-fsis.jpg'\n",
        "with urllib.request.urlopen(uri) as url:\n",
        "    img=Image.open(url)\n",
        "    display(img)"
      ]
    },
    {
      "cell_type": "markdown",
      "metadata": {
        "id": "a-PNUE5U6Lmf"
      },
      "source": [
        "### Using Chat Completions API to Identify Ingredients"
      ]
    },
    {
      "cell_type": "markdown",
      "metadata": {
        "id": "ldmRwKmLbIcL"
      },
      "source": [
        "Define a function that uses the `gpt-4-vision-preview` model for listing the ingredients visible in the picture at the specified URI."
      ]
    },
    {
      "cell_type": "code",
      "execution_count": 6,
      "metadata": {
        "id": "5RFlbQrXa_Tq"
      },
      "outputs": [],
      "source": [
        "os.environ['OPENAI_API_KEY'] = 'COPY THE API_KEY HERE'\n",
        "client = OpenAI()"
      ]
    },
    {
      "cell_type": "code",
      "execution_count": null,
      "metadata": {
        "id": "_bvgLa4LC2y_"
      },
      "outputs": [],
      "source": [
        "def listIngredients(uri):\n",
        "  response =\n",
        "\n",
        "  # Add your code here to list the ingredients visible in the picture at the specified URI.\n",
        "  # See https://platform.openai.com/docs/guides/vision for an example how to use gpt-4-vision-preview\n",
        "\n",
        "  return response.choices[0].message.content"
      ]
    },
    {
      "cell_type": "code",
      "execution_count": null,
      "metadata": {
        "id": "4AhyrijpkZEa"
      },
      "outputs": [],
      "source": [
        "ingredients = listIngredients(uri)\n",
        "print(ingredients)"
      ]
    },
    {
      "cell_type": "markdown",
      "metadata": {
        "id": "HyXWrtGC6Z_t"
      },
      "source": [
        "### Using Chat Completions API to Create Recipe"
      ]
    },
    {
      "cell_type": "markdown",
      "metadata": {
        "id": "As5vxb2QEIKm"
      },
      "source": [
        "In a next step prompt the Chat Completions API to create a recipe based on the ingredients. Use `gpt-3.5-turbo` as model."
      ]
    },
    {
      "cell_type": "code",
      "execution_count": null,
      "metadata": {
        "id": "iYKesBLMD-Wp"
      },
      "outputs": [],
      "source": [
        "def createRecipe(ingredients):\n",
        "  response =\n",
        "\n",
        "  # Add your code here to create a recipe based on the ingredients.\n",
        "  # (1) Use a system message to instruct the model how to behave and\n",
        "  # (2) Pass the ingredients in a user message.\n",
        "\n",
        "  return response.choices[0].message.content"
      ]
    },
    {
      "cell_type": "code",
      "execution_count": null,
      "metadata": {
        "id": "AERxIrO4kc4U"
      },
      "outputs": [],
      "source": [
        "recipe = createRecipe(ingredients)\n",
        "print(recipe)"
      ]
    },
    {
      "cell_type": "markdown",
      "metadata": {
        "id": "GEeJfon26gyE"
      },
      "source": [
        "### Using Chat Completions API to Generate Dish Name"
      ]
    },
    {
      "cell_type": "markdown",
      "metadata": {
        "id": "_1gtkYDYFKtI"
      },
      "source": [
        "Now use again the Chat Completions API along with the `gpt-3.5-turbo` model to generate a name for the dish."
      ]
    },
    {
      "cell_type": "code",
      "execution_count": null,
      "metadata": {
        "id": "lqYn1gJZE_bh"
      },
      "outputs": [],
      "source": [
        "def generateDishName(recipe):\n",
        "  response =\n",
        "\n",
        "  # Add your code here to generate a name for the dish.\n",
        "  # (1) Use a system message to instruct the model what to do and\n",
        "  # (2) Pass the recipe in a user message.\n",
        "\n",
        "  dishName = response.choices[0].message.content\n",
        "  return dishName"
      ]
    },
    {
      "cell_type": "code",
      "execution_count": null,
      "metadata": {
        "id": "0ChQ95Yykrg6"
      },
      "outputs": [],
      "source": [
        "dishName = generateDishName(recipe)\n",
        "print(dishName)"
      ]
    },
    {
      "cell_type": "markdown",
      "metadata": {
        "id": "w47QO2Eg6mIC"
      },
      "source": [
        "### Using Diffusors Library to Create Image"
      ]
    },
    {
      "cell_type": "markdown",
      "metadata": {
        "id": "9_KuQBYoF7nN"
      },
      "source": [
        "Now use the Diffusors library to create an image using the name of the dish as prompt."
      ]
    },
    {
      "cell_type": "code",
      "execution_count": null,
      "metadata": {
        "id": "BUC96FZbj4C2"
      },
      "outputs": [],
      "source": [
        "pipe = StableDiffusionPipeline.from_pretrained(\"CompVis/stable-diffusion-v1-4\", torch_dtype=torch.float16)\n",
        "pipe = pipe.to(\"cuda\")\n",
        "#replace cuda with cpu if you don't get a GPU allocated"
      ]
    },
    {
      "cell_type": "code",
      "execution_count": null,
      "metadata": {
        "id": "SD_D51dMGGjq"
      },
      "outputs": [],
      "source": [
        "def generate_image(prompt):\n",
        "  ## YOUR CODE START\n",
        "\n",
        "  ## YOUR CODE END\n",
        "  return image"
      ]
    },
    {
      "cell_type": "code",
      "execution_count": null,
      "metadata": {
        "colab": {
          "base_uri": "https://localhost:8080/",
          "height": 561,
          "referenced_widgets": [
            "d439e6f0f3e5439a8fe4b3d8a1014de2",
            "f33cfa78dadc4c6a84b16255689b85c5",
            "557873472ac14f7786b5c300130b3693",
            "f33d05a830484853b97e3d66e59c8368",
            "d370cb09229a4ca78e1c8c41eba1fc75",
            "8d991b3a72734e1a9d629916824c722a",
            "5600051d787b4f0bb0e2d4206c053e20",
            "001ee24212464022a2f9e8da6a42ec85",
            "4718a8bc48b743d1a80c2824454c353e",
            "40fb535d27964a44aa6a19b181b6a318",
            "5cd43576595e417cb05658a1ab1ae7b0"
          ]
        },
        "id": "GBkImOVMkwQ_",
        "outputId": "24475b05-743e-4661-b129-d3b4b598089b"
      },
      "outputs": [],
      "source": [
        "image = generate_image(dishName)\n",
        "\n",
        "image"
      ]
    },
    {
      "cell_type": "markdown",
      "metadata": {
        "id": "PMfokGhEObN2"
      },
      "source": [
        "## Exercise 3: Experimenting with Image Generation"
      ]
    },
    {
      "cell_type": "markdown",
      "metadata": {
        "id": "K-yvVb9DOoB4"
      },
      "source": [
        "This exercise requires you to run some experiments using  `StableDiffusionPipeline`.\n",
        "\n",
        "1) Choose an image prompt of your choice.\n",
        "\n",
        "2) Generate images by experimenting with\n",
        "*   a) different models\n",
        "*   b) varying the prompt\n",
        "*   c) a different number of steps\n",
        "*   d) different schedulers\n",
        "\n",
        "3) As a bonus you can additionally include OpenAI's Image API in the comparison."
      ]
    },
    {
      "cell_type": "code",
      "execution_count": 1,
      "metadata": {
        "id": "T-ooGqlWPUBT"
      },
      "outputs": [],
      "source": [
        "#Example prompts\n",
        "#prompt = \"portrait photo of an old warrior chief\""
      ]
    },
    {
      "cell_type": "code",
      "execution_count": null,
      "metadata": {
        "id": "vmhralXATzHY"
      },
      "outputs": [],
      "source": [
        "prompt = #add here the prompt of your choice"
      ]
    },
    {
      "cell_type": "markdown",
      "metadata": {
        "id": "ZiXFLF3xPWfD"
      },
      "source": [
        "### Experiment 1: Testing Different Models"
      ]
    },
    {
      "cell_type": "code",
      "execution_count": 2,
      "metadata": {
        "id": "UIV-1CxoPU3w"
      },
      "outputs": [],
      "source": [
        "device = \"cuda\"\n",
        "models = [\"CompVis/stable-diffusion-v1-4\", \"digiplay/Photon_v1\", \"dreamlike-art/dreamlike-diffusion-1.0\"]\n",
        "#models = [\"CompVis/stable-diffusion-v1-4\", \"stabilityai/stable-diffusion-xl-base-1.0\", \"runwayml/stable-diffusion-v1-5\"]"
      ]
    },
    {
      "cell_type": "code",
      "execution_count": 3,
      "metadata": {
        "id": "S2G-8tDwQrqt"
      },
      "outputs": [],
      "source": [
        "#helper function to create a grid of images\n",
        "from PIL import Image\n",
        "\n",
        "def image_grid(imgs, rows, cols):\n",
        "    assert len(imgs) == rows*cols\n",
        "\n",
        "    w, h = imgs[0].size\n",
        "    grid = Image.new('RGB', size=(cols*w, rows*h))\n",
        "    grid_w, grid_h = grid.size\n",
        "\n",
        "    for i, img in enumerate(imgs):\n",
        "        grid.paste(img, box=(i%cols*w, i//cols*h))\n",
        "    return grid"
      ]
    },
    {
      "cell_type": "code",
      "execution_count": null,
      "metadata": {
        "id": "xzY7JglFUAnQ"
      },
      "outputs": [],
      "source": [
        "from diffusers import DiffusionPipeline\n",
        "\n",
        "steps = 50\n",
        "images = []\n",
        "\n",
        "for model in models:\n",
        "  ## YOUR CODE (START)\n",
        "\n",
        "  ## For each model in models generate one image\n",
        "\n",
        "  ## YOUR CODE (END)\n",
        "  images.append(image)\n",
        "\n",
        "image_grid(images, 1, 3)"
      ]
    },
    {
      "cell_type": "markdown",
      "metadata": {
        "id": "v-3h-tOLSYYR"
      },
      "source": [
        "### Experiment 2: Varying the Prompt"
      ]
    },
    {
      "cell_type": "code",
      "execution_count": 7,
      "metadata": {
        "id": "3OKpTo0LSspc"
      },
      "outputs": [],
      "source": [
        "#Example prompts\n",
        "#prompts = [\n",
        "#    \"portrait photo of the oldest warrior chief, tribal panther make up, blue on red, side profile, looking away, serious eyes 50mm portrait photography, hard rim lighting photography--beta --ar 2:3  --beta --upbeta\",\n",
        "#    \"portrait photo of a old warrior chief, tribal panther make up, blue on red, side profile, looking away, serious eyes 50mm portrait photography, hard rim lighting photography--beta --ar 2:3  --beta --upbeta\",\n",
        "#    \"portrait photo of a warrior chief, tribal panther make up, blue on red, side profile, looking away, serious eyes 50mm portrait photography, hard rim lighting photography--beta --ar 2:3  --beta --upbeta\",\n",
        "#    \"portrait photo of a young warrior chief, tribal panther make up, blue on red, side profile, looking away, serious eyes 50mm portrait photography, hard rim lighting photography--beta --ar 2:3  --beta --upbeta\",\n",
        "#]"
      ]
    },
    {
      "cell_type": "code",
      "execution_count": null,
      "metadata": {
        "id": "t5-MEHuXUTBd"
      },
      "outputs": [],
      "source": [
        "# add here a list of prompts\n",
        "prompts = [\n",
        "    \"prompt 1 - add your own prompt\",\n",
        "    \"prompt 2 - add your own prompt\",\n",
        "    \"prompt 3 - add your own prompt\",\n",
        "    \"prompt 4 - add your own prompt\",\n",
        "]"
      ]
    },
    {
      "cell_type": "code",
      "execution_count": null,
      "metadata": {
        "id": "qkSChvBlUyy8"
      },
      "outputs": [],
      "source": [
        "from diffusers import DiffusionPipeline\n",
        "\n",
        "steps = 25\n",
        "\n",
        "## YOUR CODE (START)\n",
        "\n",
        "## YOUR CODE (END)\n",
        "\n",
        "image_grid(images, 2, 2)"
      ]
    },
    {
      "cell_type": "markdown",
      "metadata": {
        "id": "4GBUwSWJT4Py"
      },
      "source": [
        "### Experiment 3: Experimenting with a Different Number of Steps"
      ]
    },
    {
      "cell_type": "markdown",
      "metadata": {
        "id": "q-FfxbneVMJT"
      },
      "source": [
        "Experiment with 10 to 100 steps."
      ]
    },
    {
      "cell_type": "code",
      "execution_count": null,
      "metadata": {
        "id": "u6TWaW2uVSVN"
      },
      "outputs": [],
      "source": [
        "from diffusers import DiffusionPipeline\n",
        "\n",
        "images = []\n",
        "\n",
        "for steps in range(10,101,10):\n",
        "\n",
        "  ## YOUR CODE (START)\n",
        "\n",
        "  ## Generate one image per number of steps\n",
        "\n",
        "  ##YOUR CODE (END)\n",
        "\n",
        "  images.append(image)\n",
        "\n",
        "image_grid(images, 2, 5)"
      ]
    },
    {
      "cell_type": "markdown",
      "metadata": {
        "id": "oNc-b-hnUlvr"
      },
      "source": [
        "### Experiment 4: Experimenting with Different Schedulers"
      ]
    },
    {
      "cell_type": "code",
      "execution_count": null,
      "metadata": {
        "id": "NOEUEzmOViG-"
      },
      "outputs": [],
      "source": [
        "from diffusers import DiffusionPipeline, EulerDiscreteScheduler, EulerAncestralDiscreteScheduler, DPMSolverMultistepScheduler\n",
        "\n",
        "model = \"dreamlike-art/dreamlike-diffusion-1.0\"\n",
        "steps = 20\n",
        "images = []\n",
        "\n",
        "# EulerDiscrete Scheduler\n",
        "## YOUR CODE (START)\n",
        "## Generate one image using the EulerDiscrete Scheduler\n",
        "## YOUR CODE (END )\n",
        "images.append(image)\n",
        "\n",
        "# EulerAncestralDiscreteScheduler\n",
        "## YOUR CODE (START)\n",
        "## Generate one image using the EulerAncestralDiscrete Scheduler\n",
        "## YOUR CODE (END )\n",
        "images.append(image)\n",
        "\n",
        "# DPMSolverMultiStepScheduler\n",
        "## YOUR CODE (START)\n",
        "## Generate one image using the DPMSolverMultistepScheduler Scheduler\n",
        "## YOUR CODE (END )\n",
        "images.append(image)\n",
        "\n",
        "image_grid(images, 1, 3)"
      ]
    }
  ],
  "metadata": {
    "accelerator": "GPU",
    "colab": {
      "provenance": [],
      "toc_visible": true
    },
    "kernelspec": {
      "display_name": "Python 3",
      "name": "python3"
    },
    "language_info": {
      "codemirror_mode": {
        "name": "ipython",
        "version": 3
      },
      "file_extension": ".py",
      "mimetype": "text/x-python",
      "name": "python",
      "nbconvert_exporter": "python",
      "pygments_lexer": "ipython3",
      "version": "3.12.0"
    },
    "widgets": {
      "application/vnd.jupyter.widget-state+json": {
        "001ee24212464022a2f9e8da6a42ec85": {
          "model_module": "@jupyter-widgets/base",
          "model_module_version": "1.2.0",
          "model_name": "LayoutModel",
          "state": {
            "_model_module": "@jupyter-widgets/base",
            "_model_module_version": "1.2.0",
            "_model_name": "LayoutModel",
            "_view_count": null,
            "_view_module": "@jupyter-widgets/base",
            "_view_module_version": "1.2.0",
            "_view_name": "LayoutView",
            "align_content": null,
            "align_items": null,
            "align_self": null,
            "border": null,
            "bottom": null,
            "display": null,
            "flex": null,
            "flex_flow": null,
            "grid_area": null,
            "grid_auto_columns": null,
            "grid_auto_flow": null,
            "grid_auto_rows": null,
            "grid_column": null,
            "grid_gap": null,
            "grid_row": null,
            "grid_template_areas": null,
            "grid_template_columns": null,
            "grid_template_rows": null,
            "height": null,
            "justify_content": null,
            "justify_items": null,
            "left": null,
            "margin": null,
            "max_height": null,
            "max_width": null,
            "min_height": null,
            "min_width": null,
            "object_fit": null,
            "object_position": null,
            "order": null,
            "overflow": null,
            "overflow_x": null,
            "overflow_y": null,
            "padding": null,
            "right": null,
            "top": null,
            "visibility": null,
            "width": null
          }
        },
        "40fb535d27964a44aa6a19b181b6a318": {
          "model_module": "@jupyter-widgets/base",
          "model_module_version": "1.2.0",
          "model_name": "LayoutModel",
          "state": {
            "_model_module": "@jupyter-widgets/base",
            "_model_module_version": "1.2.0",
            "_model_name": "LayoutModel",
            "_view_count": null,
            "_view_module": "@jupyter-widgets/base",
            "_view_module_version": "1.2.0",
            "_view_name": "LayoutView",
            "align_content": null,
            "align_items": null,
            "align_self": null,
            "border": null,
            "bottom": null,
            "display": null,
            "flex": null,
            "flex_flow": null,
            "grid_area": null,
            "grid_auto_columns": null,
            "grid_auto_flow": null,
            "grid_auto_rows": null,
            "grid_column": null,
            "grid_gap": null,
            "grid_row": null,
            "grid_template_areas": null,
            "grid_template_columns": null,
            "grid_template_rows": null,
            "height": null,
            "justify_content": null,
            "justify_items": null,
            "left": null,
            "margin": null,
            "max_height": null,
            "max_width": null,
            "min_height": null,
            "min_width": null,
            "object_fit": null,
            "object_position": null,
            "order": null,
            "overflow": null,
            "overflow_x": null,
            "overflow_y": null,
            "padding": null,
            "right": null,
            "top": null,
            "visibility": null,
            "width": null
          }
        },
        "4718a8bc48b743d1a80c2824454c353e": {
          "model_module": "@jupyter-widgets/controls",
          "model_module_version": "1.5.0",
          "model_name": "ProgressStyleModel",
          "state": {
            "_model_module": "@jupyter-widgets/controls",
            "_model_module_version": "1.5.0",
            "_model_name": "ProgressStyleModel",
            "_view_count": null,
            "_view_module": "@jupyter-widgets/base",
            "_view_module_version": "1.2.0",
            "_view_name": "StyleView",
            "bar_color": null,
            "description_width": ""
          }
        },
        "557873472ac14f7786b5c300130b3693": {
          "model_module": "@jupyter-widgets/controls",
          "model_module_version": "1.5.0",
          "model_name": "FloatProgressModel",
          "state": {
            "_dom_classes": [],
            "_model_module": "@jupyter-widgets/controls",
            "_model_module_version": "1.5.0",
            "_model_name": "FloatProgressModel",
            "_view_count": null,
            "_view_module": "@jupyter-widgets/controls",
            "_view_module_version": "1.5.0",
            "_view_name": "ProgressView",
            "bar_style": "success",
            "description": "",
            "description_tooltip": null,
            "layout": "IPY_MODEL_001ee24212464022a2f9e8da6a42ec85",
            "max": 50,
            "min": 0,
            "orientation": "horizontal",
            "style": "IPY_MODEL_4718a8bc48b743d1a80c2824454c353e",
            "value": 50
          }
        },
        "5600051d787b4f0bb0e2d4206c053e20": {
          "model_module": "@jupyter-widgets/controls",
          "model_module_version": "1.5.0",
          "model_name": "DescriptionStyleModel",
          "state": {
            "_model_module": "@jupyter-widgets/controls",
            "_model_module_version": "1.5.0",
            "_model_name": "DescriptionStyleModel",
            "_view_count": null,
            "_view_module": "@jupyter-widgets/base",
            "_view_module_version": "1.2.0",
            "_view_name": "StyleView",
            "description_width": ""
          }
        },
        "5cd43576595e417cb05658a1ab1ae7b0": {
          "model_module": "@jupyter-widgets/controls",
          "model_module_version": "1.5.0",
          "model_name": "DescriptionStyleModel",
          "state": {
            "_model_module": "@jupyter-widgets/controls",
            "_model_module_version": "1.5.0",
            "_model_name": "DescriptionStyleModel",
            "_view_count": null,
            "_view_module": "@jupyter-widgets/base",
            "_view_module_version": "1.2.0",
            "_view_name": "StyleView",
            "description_width": ""
          }
        },
        "8d991b3a72734e1a9d629916824c722a": {
          "model_module": "@jupyter-widgets/base",
          "model_module_version": "1.2.0",
          "model_name": "LayoutModel",
          "state": {
            "_model_module": "@jupyter-widgets/base",
            "_model_module_version": "1.2.0",
            "_model_name": "LayoutModel",
            "_view_count": null,
            "_view_module": "@jupyter-widgets/base",
            "_view_module_version": "1.2.0",
            "_view_name": "LayoutView",
            "align_content": null,
            "align_items": null,
            "align_self": null,
            "border": null,
            "bottom": null,
            "display": null,
            "flex": null,
            "flex_flow": null,
            "grid_area": null,
            "grid_auto_columns": null,
            "grid_auto_flow": null,
            "grid_auto_rows": null,
            "grid_column": null,
            "grid_gap": null,
            "grid_row": null,
            "grid_template_areas": null,
            "grid_template_columns": null,
            "grid_template_rows": null,
            "height": null,
            "justify_content": null,
            "justify_items": null,
            "left": null,
            "margin": null,
            "max_height": null,
            "max_width": null,
            "min_height": null,
            "min_width": null,
            "object_fit": null,
            "object_position": null,
            "order": null,
            "overflow": null,
            "overflow_x": null,
            "overflow_y": null,
            "padding": null,
            "right": null,
            "top": null,
            "visibility": null,
            "width": null
          }
        },
        "d370cb09229a4ca78e1c8c41eba1fc75": {
          "model_module": "@jupyter-widgets/base",
          "model_module_version": "1.2.0",
          "model_name": "LayoutModel",
          "state": {
            "_model_module": "@jupyter-widgets/base",
            "_model_module_version": "1.2.0",
            "_model_name": "LayoutModel",
            "_view_count": null,
            "_view_module": "@jupyter-widgets/base",
            "_view_module_version": "1.2.0",
            "_view_name": "LayoutView",
            "align_content": null,
            "align_items": null,
            "align_self": null,
            "border": null,
            "bottom": null,
            "display": null,
            "flex": null,
            "flex_flow": null,
            "grid_area": null,
            "grid_auto_columns": null,
            "grid_auto_flow": null,
            "grid_auto_rows": null,
            "grid_column": null,
            "grid_gap": null,
            "grid_row": null,
            "grid_template_areas": null,
            "grid_template_columns": null,
            "grid_template_rows": null,
            "height": null,
            "justify_content": null,
            "justify_items": null,
            "left": null,
            "margin": null,
            "max_height": null,
            "max_width": null,
            "min_height": null,
            "min_width": null,
            "object_fit": null,
            "object_position": null,
            "order": null,
            "overflow": null,
            "overflow_x": null,
            "overflow_y": null,
            "padding": null,
            "right": null,
            "top": null,
            "visibility": null,
            "width": null
          }
        },
        "d439e6f0f3e5439a8fe4b3d8a1014de2": {
          "model_module": "@jupyter-widgets/controls",
          "model_module_version": "1.5.0",
          "model_name": "HBoxModel",
          "state": {
            "_dom_classes": [],
            "_model_module": "@jupyter-widgets/controls",
            "_model_module_version": "1.5.0",
            "_model_name": "HBoxModel",
            "_view_count": null,
            "_view_module": "@jupyter-widgets/controls",
            "_view_module_version": "1.5.0",
            "_view_name": "HBoxView",
            "box_style": "",
            "children": [
              "IPY_MODEL_f33cfa78dadc4c6a84b16255689b85c5",
              "IPY_MODEL_557873472ac14f7786b5c300130b3693",
              "IPY_MODEL_f33d05a830484853b97e3d66e59c8368"
            ],
            "layout": "IPY_MODEL_d370cb09229a4ca78e1c8c41eba1fc75"
          }
        },
        "f33cfa78dadc4c6a84b16255689b85c5": {
          "model_module": "@jupyter-widgets/controls",
          "model_module_version": "1.5.0",
          "model_name": "HTMLModel",
          "state": {
            "_dom_classes": [],
            "_model_module": "@jupyter-widgets/controls",
            "_model_module_version": "1.5.0",
            "_model_name": "HTMLModel",
            "_view_count": null,
            "_view_module": "@jupyter-widgets/controls",
            "_view_module_version": "1.5.0",
            "_view_name": "HTMLView",
            "description": "",
            "description_tooltip": null,
            "layout": "IPY_MODEL_8d991b3a72734e1a9d629916824c722a",
            "placeholder": "​",
            "style": "IPY_MODEL_5600051d787b4f0bb0e2d4206c053e20",
            "value": "100%"
          }
        },
        "f33d05a830484853b97e3d66e59c8368": {
          "model_module": "@jupyter-widgets/controls",
          "model_module_version": "1.5.0",
          "model_name": "HTMLModel",
          "state": {
            "_dom_classes": [],
            "_model_module": "@jupyter-widgets/controls",
            "_model_module_version": "1.5.0",
            "_model_name": "HTMLModel",
            "_view_count": null,
            "_view_module": "@jupyter-widgets/controls",
            "_view_module_version": "1.5.0",
            "_view_name": "HTMLView",
            "description": "",
            "description_tooltip": null,
            "layout": "IPY_MODEL_40fb535d27964a44aa6a19b181b6a318",
            "placeholder": "​",
            "style": "IPY_MODEL_5cd43576595e417cb05658a1ab1ae7b0",
            "value": " 50/50 [00:08&lt;00:00,  7.17it/s]"
          }
        }
      }
    }
  },
  "nbformat": 4,
  "nbformat_minor": 0
}
