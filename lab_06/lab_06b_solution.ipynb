{
  "cells": [
    {
      "cell_type": "markdown",
      "source": [
        "# Solutions"
      ],
      "metadata": {
        "id": "7uUV_rNw_ERQ"
      }
    },
    {
      "cell_type": "markdown",
      "source": [
        "## Setup"
      ],
      "metadata": {
        "id": "F4p7BZ9tatuq"
      }
    },
    {
      "cell_type": "code",
      "source": [
        "!pip install openai"
      ],
      "metadata": {
        "id": "ybMwpSPFaomK"
      },
      "execution_count": null,
      "outputs": []
    },
    {
      "cell_type": "code",
      "source": [
        "import os\n",
        "from pathlib import Path\n",
        "from openai import OpenAI\n",
        "import IPython.display as ipd\n",
        "\n",
        "os.environ['OPENAI_API_KEY'] = 'COPY THE API_KEY HERE'\n",
        "\n",
        "client = OpenAI()"
      ],
      "metadata": {
        "id": "40YP90YbasjP"
      },
      "execution_count": null,
      "outputs": []
    },
    {
      "cell_type": "markdown",
      "source": [
        "## 1. Translation and Explanation Using OpenAI Chat Completions API"
      ],
      "metadata": {
        "id": "_8d1_oO8a3AM"
      }
    },
    {
      "cell_type": "code",
      "source": [
        "originalText = '白日依山尽，黃河入海流；欲穷千里目，更上一层楼。'"
      ],
      "metadata": {
        "id": "89OS1i1Ba94l"
      },
      "execution_count": null,
      "outputs": []
    },
    {
      "cell_type": "code",
      "source": [
        "## use Chat Completions API to translate the poem\n",
        "def translateFromChineseToEnglish(text):\n",
        "  response = client.chat.completions.create(\n",
        "  model=\"gpt-4\",\n",
        "  messages=[\n",
        "    {\n",
        "      \"role\": \"system\",\n",
        "      \"content\": \"You will be provided with a poem in Chinese, and your task is to translate it into English.\"\n",
        "    },\n",
        "    {\n",
        "      \"role\": \"user\",\n",
        "      \"content\": text\n",
        "    }\n",
        "  ],\n",
        "  temperature=0.7,\n",
        "  max_tokens=64\n",
        "  )\n",
        "  return response.choices[0].message.content\n"
      ],
      "metadata": {
        "id": "ms-683U8-Hg5"
      },
      "execution_count": null,
      "outputs": []
    },
    {
      "cell_type": "code",
      "source": [
        "## use Chat Completions API to explain the meaning of the poem with at most 50 words\n",
        "def explainMeaning(text):\n",
        "  response = client.chat.completions.create(\n",
        "  model=\"gpt-4\",\n",
        "  messages=[\n",
        "    {\n",
        "      \"role\": \"system\",\n",
        "      \"content\": \"You will be provided the English translation of a Chinese poem. Explain the meaning of the poem in no more than 50 words.\"\n",
        "    },\n",
        "    {\n",
        "      \"role\": \"user\",\n",
        "      \"content\": text\n",
        "    }\n",
        "  ],\n",
        "  temperature=0.7,\n",
        "  max_tokens=64\n",
        "  )\n",
        "  return response.choices[0].message.content"
      ],
      "metadata": {
        "id": "ufCohkXAbVRL"
      },
      "execution_count": null,
      "outputs": []
    },
    {
      "cell_type": "code",
      "source": [
        "translatedText = translateFromChineseToEnglish(originalText)\n",
        "\n",
        "explainedText = explainMeaning(translatedText)\n",
        "\n",
        "print(translatedText)\n",
        "\n",
        "print(explainedText)"
      ],
      "metadata": {
        "id": "1k2edrAfbJbN"
      },
      "execution_count": null,
      "outputs": []
    },
    {
      "cell_type": "markdown",
      "source": [
        "## 2. Speech Generation Using OpenAI Audio API"
      ],
      "metadata": {
        "id": "1xDYmpGNbjs6"
      }
    },
    {
      "cell_type": "code",
      "source": [
        "## use Audio API to generate text to speech\n",
        "def generateTextToSpeech(text):\n",
        "  speech_file_path = \"speech.mp3\"\n",
        "  response = client.audio.speech.create(\n",
        "    model=\"tts-1\",\n",
        "    voice=\"alloy\",\n",
        "    input=text\n",
        "  )\n",
        "  response.stream_to_file(speech_file_path)\n",
        "  return speech_file_path"
      ],
      "metadata": {
        "id": "FLSDUWQqbATi"
      },
      "execution_count": null,
      "outputs": []
    },
    {
      "cell_type": "code",
      "source": [
        "fileName=generateTextToSpeech(originalText + explainedText)\n",
        "ipd.Audio(filename=fileName)"
      ],
      "metadata": {
        "id": "4-BX_OxabE6W"
      },
      "execution_count": null,
      "outputs": []
    },
    {
      "cell_type": "markdown",
      "source": [
        "## 3. Image Generation Using OpenAI Images API"
      ],
      "metadata": {
        "id": "mpkpSgRhbmbl"
      }
    },
    {
      "cell_type": "code",
      "source": [
        "## use the Images API with dall-e-3 to generate an image based on the poem\n",
        "def generateImage(prompt):\n",
        "  response = client.images.generate(\n",
        "    model=\"dall-e-3\",\n",
        "    prompt=prompt,\n",
        "    size=\"1024x1024\",\n",
        "    quality=\"standard\",\n",
        "    n=1,\n",
        "  )\n",
        "\n",
        "  return response.data[0].url"
      ],
      "metadata": {
        "id": "erWQavu4BJzM"
      },
      "execution_count": null,
      "outputs": []
    },
    {
      "cell_type": "code",
      "source": [
        "poem_Image_Uri = generateImage(translatedText)"
      ],
      "metadata": {
        "id": "WvnqVBHwBK_q"
      },
      "execution_count": null,
      "outputs": []
    },
    {
      "cell_type": "code",
      "source": [
        "# Open the image given its URL\n",
        "from PIL import Image\n",
        "import urllib.request\n",
        "\n",
        "with urllib.request.urlopen(poem_Image_Uri) as url:\n",
        "    img=Image.open(url)\n",
        "    display(img)"
      ],
      "metadata": {
        "id": "2KUlURs2BK8P"
      },
      "execution_count": null,
      "outputs": []
    }
  ],
  "metadata": {
    "colab": {
      "provenance": [],
      "toc_visible": true
    },
    "kernelspec": {
      "display_name": "Python 3",
      "name": "python3"
    },
    "language_info": {
      "name": "python"
    }
  },
  "nbformat": 4,
  "nbformat_minor": 0
}